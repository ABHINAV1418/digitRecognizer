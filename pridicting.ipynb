{
 "cells": [
  {
   "cell_type": "code",
   "execution_count": 10,
   "metadata": {},
   "outputs": [
    {
     "name": "stdout",
     "output_type": "stream",
     "text": [
      "Predicted Number:  3\n"
     ]
    }
   ],
   "source": [
    "import cv2\n",
    "import numpy as np\n",
    "from tensorflow.python.keras.models import load_model\n",
    "import matplotlib.pyplot as plt\n",
    "\n",
    "\n",
    "def predict(img):\n",
    "    image = img.copy()\n",
    "    image = cv2.cvtColor(image, cv2.COLOR_BGR2GRAY)\n",
    "    # image = cv2.threshold(image, 140, 255, cv2.THRESH_BINARY)[1]\n",
    "    image = cv2.resize(image, (28, 28))\n",
    "    # display_image(image)\n",
    "    image = image.astype('float32')\n",
    "    image = image.reshape(1, 28, 28, 1)\n",
    "    image /= 255\n",
    "\n",
    "    # plt.imshow(image.reshape(28, 28), cmap='Greys')\n",
    "    # plt.show()\n",
    "    model = load_model('mnist')\n",
    "    pred = model.predict(image.reshape(1, 28, 28, 1), batch_size=1)\n",
    "\n",
    "    print(\"Predicted Number: \", pred.argmax())\n",
    "\n",
    "    # return pred.argmax()\n",
    "\n",
    "predict(cv2.imread('test3.PNG'))"
   ]
  }
 ],
 "metadata": {
  "kernelspec": {
   "display_name": "Python 3.8.5 64-bit",
   "name": "python385jvsc74a57bd031f2aee4e71d21fbe5cf8b01ff0e069b9275f58929596ceb00d14d90e3e16cd6"
  },
  "language_info": {
   "name": "python",
   "version": ""
  },
  "metadata": {
   "interpreter": {
    "hash": "31f2aee4e71d21fbe5cf8b01ff0e069b9275f58929596ceb00d14d90e3e16cd6"
   }
  },
  "orig_nbformat": 2
 },
 "nbformat": 4,
 "nbformat_minor": 2
}